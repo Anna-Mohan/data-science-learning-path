{
  "nbformat": 4,
  "nbformat_minor": 0,
  "metadata": {
    "colab": {
      "provenance": [],
      "toc_visible": true,
      "authorship_tag": "ABX9TyM3N26qWbA3/UU348d2lexy",
      "include_colab_link": true
    },
    "kernelspec": {
      "name": "python3",
      "display_name": "Python 3"
    },
    "language_info": {
      "name": "python"
    }
  },
  "cells": [
    {
      "cell_type": "markdown",
      "metadata": {
        "id": "view-in-github",
        "colab_type": "text"
      },
      "source": [
        "<a href=\"https://colab.research.google.com/github/Anna-Mohan/data-science-learning-path/blob/main/MDT51_DATA_SCIENCE.ipynb\" target=\"_parent\"><img src=\"https://colab.research.google.com/assets/colab-badge.svg\" alt=\"Open In Colab\"/></a>"
      ]
    },
    {
      "cell_type": "code",
      "execution_count": null,
      "metadata": {
        "colab": {
          "base_uri": "https://localhost:8080/"
        },
        "id": "w04FhVGI5sE-",
        "outputId": "d72e139e-9bd9-4126-9fc1-a9cacfe2e6da"
      },
      "outputs": [
        {
          "output_type": "stream",
          "name": "stdout",
          "text": [
            "sandu\n",
            "anna\n",
            "arivu\n"
          ]
        }
      ],
      "source": [
        "name = [ 'sandu','anna','arivu']\n",
        "\n",
        "for A in name:\n",
        "  print(A)"
      ]
    },
    {
      "cell_type": "code",
      "source": [
        "\n"
      ],
      "metadata": {
        "id": "LGlSgZxG-e7k"
      },
      "execution_count": null,
      "outputs": []
    },
    {
      "cell_type": "code",
      "source": [],
      "metadata": {
        "id": "nKCKpmed-IhS"
      },
      "execution_count": null,
      "outputs": []
    },
    {
      "cell_type": "code",
      "source": [
        "Nums=[10,20,39,67,78,44,25,22,68]\n",
        "\n",
        "odd=[]\n",
        "even=[]\n",
        "\n",
        "for i in Nums:\n",
        "  if i%2==0:\n",
        "    even.append(i)\n",
        "  else:\n",
        "    odd.append(i)\n",
        "\n",
        "print(even)\n",
        "print(odd)\n",
        "\n",
        "\n",
        "\n"
      ],
      "metadata": {
        "id": "2KXmIYOD5t3l",
        "colab": {
          "base_uri": "https://localhost:8080/"
        },
        "outputId": "73eb1075-c5e7-40cc-853f-012997550ac4"
      },
      "execution_count": null,
      "outputs": [
        {
          "output_type": "stream",
          "name": "stdout",
          "text": [
            "[10, 20, 78, 44, 22, 68]\n",
            "[39, 67, 25]\n"
          ]
        }
      ]
    },
    {
      "cell_type": "code",
      "source": [
        "Nums=[10,20,39,67,78,44,25,22,68,100,12,103,27,78,99,0,1,2,3,4,5,6,7,8,9,10]\n",
        "\n",
        "num_3 = []\n",
        "num_5 = []\n",
        "num_7 = []\n",
        "\n",
        "for i in Nums:\n",
        "  if i%3==0:\n",
        "    num_3.append(i)\n",
        "  if i%5==0:\n",
        "    num_5.append(i)\n",
        "  if i%7==0:\n",
        "    num_7.append(i)\n",
        "\n",
        "print(num_3)\n",
        "print(num_5)\n",
        "print(num_7)\n",
        "num_5 = []\n",
        "num_7 = []\n",
        "\n",
        "for i in Nums:\n",
        "  if i%3==0:\n",
        "    num_3.append(i)\n",
        "  if i%5==0:\n",
        "    num_5.append(i)\n",
        "  if i%7==0:\n",
        "    num_7.append(i)\n",
        "\n",
        "print(num_3)\n",
        "print(num_5)\n",
        "print(num_7)\n",
        "\n",
        "\n",
        "\n",
        "\n",
        "\n",
        "\n",
        "\n",
        "\n"
      ],
      "metadata": {
        "colab": {
          "base_uri": "https://localhost:8080/",
          "height": 110
        },
        "id": "NITmJlqXBHzI",
        "outputId": "5cc20880-66c8-4fbf-fb94-5cb5773b5c7f"
      },
      "execution_count": null,
      "outputs": [
        {
          "output_type": "error",
          "ename": "SyntaxError",
          "evalue": "leading zeros in decimal integer literals are not permitted; use an 0o prefix for octal integers (<ipython-input-16-94f2f136174a>, line 1)",
          "traceback": [
            "\u001b[0;36m  File \u001b[0;32m\"<ipython-input-16-94f2f136174a>\"\u001b[0;36m, line \u001b[0;32m1\u001b[0m\n\u001b[0;31m    Nums=[10,20,39,67,78,44,25,22,68,100,012,103,27,78,99,0,1,2,3,4,5,6,7,8,9,10]\u001b[0m\n\u001b[0m                                         ^\u001b[0m\n\u001b[0;31mSyntaxError\u001b[0m\u001b[0;31m:\u001b[0m leading zeros in decimal integer literals are not permitted; use an 0o prefix for octal integers\n"
          ]
        }
      ]
    },
    {
      "cell_type": "code",
      "source": [
        "Nums=[10,20,39,67,78,44,25,22,68,100,12,103,27,78,99,0,1,2,3,4,5,6,7,8,9,10]\n",
        "\n",
        "# % 3 []\n",
        "# % 5 []\n",
        "# % 7 []\n",
        "\n",
        "num_3 = []\n",
        "num_5 = []\n",
        "num_7 = []\n",
        "\n",
        "for i in Nums:\n",
        "  if i%3==0:\n",
        "    num_3.append(i)\n",
        "  elif i%5==0:\n",
        "    num_5.append(i)\n",
        "  elif i%7==0:\n",
        "    num_7.append(i)\n",
        "\n",
        " print(num_3)\n",
        " print(num_5)\n",
        " print(num_7)\n"
      ],
      "metadata": {
        "colab": {
          "base_uri": "https://localhost:8080/",
          "height": 110
        },
        "id": "B13uGzBfBy5H",
        "outputId": "a21cb252-76cf-4452-8ecd-3eefd99eb493"
      },
      "execution_count": null,
      "outputs": [
        {
          "output_type": "error",
          "ename": "IndentationError",
          "evalue": "unindent does not match any outer indentation level (<tokenize>, line 19)",
          "traceback": [
            "\u001b[0;36m  File \u001b[0;32m\"<tokenize>\"\u001b[0;36m, line \u001b[0;32m19\u001b[0m\n\u001b[0;31m    print(num_3)\u001b[0m\n\u001b[0m    ^\u001b[0m\n\u001b[0;31mIndentationError\u001b[0m\u001b[0;31m:\u001b[0m unindent does not match any outer indentation level\n"
          ]
        }
      ]
    },
    {
      "cell_type": "code",
      "source": [],
      "metadata": {
        "id": "REtgDXGQHrWY"
      },
      "execution_count": null,
      "outputs": []
    }
  ]
}